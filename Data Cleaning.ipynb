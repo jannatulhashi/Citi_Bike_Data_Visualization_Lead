{
 "cells": [
  {
   "cell_type": "code",
   "execution_count": 1,
   "id": "3e8a80f5",
   "metadata": {},
   "outputs": [],
   "source": [
    "# Dependencies and Setup\n",
    "import pandas as pd\n",
    "from pathlib import Path"
   ]
  },
  {
   "cell_type": "code",
   "execution_count": 4,
   "id": "b1e79547",
   "metadata": {},
   "outputs": [],
   "source": [
    "# Load in file\n",
    "# Store filepath in a variable\n",
    "\n",
    "citibike_tripdata_2022_csv = Path(\"Resources/JC-202207-citbike-tripdata.csv\")\n",
    "\n",
    "citibike_tripdata_2023_csv = Path(\"Resources/JC-202307-citibike-tripdata.csv\")"
   ]
  },
  {
   "cell_type": "code",
   "execution_count": 5,
   "id": "bccd1ffe",
   "metadata": {},
   "outputs": [],
   "source": [
    "# Read titles and credits data file and store into Pandas DataFrames\n",
    "citibike_tripdata_2022_df = pd.read_csv(citibike_tripdata_2022_csv)\n",
    "\n",
    "citibike_tripdata_2023_df = pd.read_csv(citibike_tripdata_2023_csv)"
   ]
  },
  {
   "cell_type": "code",
   "execution_count": 7,
   "id": "e1fa048b",
   "metadata": {},
   "outputs": [
    {
     "data": {
      "text/html": [
       "<div>\n",
       "<style scoped>\n",
       "    .dataframe tbody tr th:only-of-type {\n",
       "        vertical-align: middle;\n",
       "    }\n",
       "\n",
       "    .dataframe tbody tr th {\n",
       "        vertical-align: top;\n",
       "    }\n",
       "\n",
       "    .dataframe thead th {\n",
       "        text-align: right;\n",
       "    }\n",
       "</style>\n",
       "<table border=\"1\" class=\"dataframe\">\n",
       "  <thead>\n",
       "    <tr style=\"text-align: right;\">\n",
       "      <th></th>\n",
       "      <th>ride_id</th>\n",
       "      <th>rideable_type</th>\n",
       "      <th>started_at</th>\n",
       "      <th>ended_at</th>\n",
       "      <th>start_station_name</th>\n",
       "      <th>start_station_id</th>\n",
       "      <th>end_station_name</th>\n",
       "      <th>end_station_id</th>\n",
       "      <th>start_lat</th>\n",
       "      <th>start_lng</th>\n",
       "      <th>end_lat</th>\n",
       "      <th>end_lng</th>\n",
       "      <th>member_casual</th>\n",
       "    </tr>\n",
       "  </thead>\n",
       "  <tbody>\n",
       "    <tr>\n",
       "      <th>0</th>\n",
       "      <td>89CDCE3224502904</td>\n",
       "      <td>classic_bike</td>\n",
       "      <td>2022-07-21 18:19:45</td>\n",
       "      <td>2022-07-21 18:28:21</td>\n",
       "      <td>Marshall St &amp; 2 St</td>\n",
       "      <td>HB408</td>\n",
       "      <td>8 St &amp; Washington St</td>\n",
       "      <td>HB603</td>\n",
       "      <td>40.740802</td>\n",
       "      <td>-74.042521</td>\n",
       "      <td>40.745984</td>\n",
       "      <td>-74.028199</td>\n",
       "      <td>member</td>\n",
       "    </tr>\n",
       "    <tr>\n",
       "      <th>1</th>\n",
       "      <td>3E6E50F51BD4CBD9</td>\n",
       "      <td>electric_bike</td>\n",
       "      <td>2022-07-21 17:50:57</td>\n",
       "      <td>2022-07-21 17:59:17</td>\n",
       "      <td>Marshall St &amp; 2 St</td>\n",
       "      <td>HB408</td>\n",
       "      <td>11 St &amp; Washington St</td>\n",
       "      <td>HB502</td>\n",
       "      <td>40.740802</td>\n",
       "      <td>-74.042521</td>\n",
       "      <td>40.749985</td>\n",
       "      <td>-74.027150</td>\n",
       "      <td>casual</td>\n",
       "    </tr>\n",
       "    <tr>\n",
       "      <th>2</th>\n",
       "      <td>8A9058FAA9115562</td>\n",
       "      <td>electric_bike</td>\n",
       "      <td>2022-07-23 11:51:55</td>\n",
       "      <td>2022-07-23 11:59:16</td>\n",
       "      <td>Marshall St &amp; 2 St</td>\n",
       "      <td>HB408</td>\n",
       "      <td>Oakland Ave</td>\n",
       "      <td>JC022</td>\n",
       "      <td>40.740802</td>\n",
       "      <td>-74.042521</td>\n",
       "      <td>40.737604</td>\n",
       "      <td>-74.052478</td>\n",
       "      <td>member</td>\n",
       "    </tr>\n",
       "    <tr>\n",
       "      <th>3</th>\n",
       "      <td>C566A187663748AE</td>\n",
       "      <td>classic_bike</td>\n",
       "      <td>2022-07-30 20:34:40</td>\n",
       "      <td>2022-07-30 20:48:40</td>\n",
       "      <td>Marshall St &amp; 2 St</td>\n",
       "      <td>HB408</td>\n",
       "      <td>Bloomfield St &amp; 15 St</td>\n",
       "      <td>HB203</td>\n",
       "      <td>40.740802</td>\n",
       "      <td>-74.042521</td>\n",
       "      <td>40.754530</td>\n",
       "      <td>-74.026580</td>\n",
       "      <td>member</td>\n",
       "    </tr>\n",
       "    <tr>\n",
       "      <th>4</th>\n",
       "      <td>7E754D57276BE57E</td>\n",
       "      <td>classic_bike</td>\n",
       "      <td>2022-07-14 18:42:34</td>\n",
       "      <td>2022-07-14 18:49:45</td>\n",
       "      <td>Marshall St &amp; 2 St</td>\n",
       "      <td>HB408</td>\n",
       "      <td>Clinton St &amp; 7 St</td>\n",
       "      <td>HB303</td>\n",
       "      <td>40.740802</td>\n",
       "      <td>-74.042521</td>\n",
       "      <td>40.745420</td>\n",
       "      <td>-74.033320</td>\n",
       "      <td>casual</td>\n",
       "    </tr>\n",
       "  </tbody>\n",
       "</table>\n",
       "</div>"
      ],
      "text/plain": [
       "            ride_id  rideable_type           started_at             ended_at  \\\n",
       "0  89CDCE3224502904   classic_bike  2022-07-21 18:19:45  2022-07-21 18:28:21   \n",
       "1  3E6E50F51BD4CBD9  electric_bike  2022-07-21 17:50:57  2022-07-21 17:59:17   \n",
       "2  8A9058FAA9115562  electric_bike  2022-07-23 11:51:55  2022-07-23 11:59:16   \n",
       "3  C566A187663748AE   classic_bike  2022-07-30 20:34:40  2022-07-30 20:48:40   \n",
       "4  7E754D57276BE57E   classic_bike  2022-07-14 18:42:34  2022-07-14 18:49:45   \n",
       "\n",
       "   start_station_name start_station_id       end_station_name end_station_id  \\\n",
       "0  Marshall St & 2 St            HB408   8 St & Washington St          HB603   \n",
       "1  Marshall St & 2 St            HB408  11 St & Washington St          HB502   \n",
       "2  Marshall St & 2 St            HB408            Oakland Ave          JC022   \n",
       "3  Marshall St & 2 St            HB408  Bloomfield St & 15 St          HB203   \n",
       "4  Marshall St & 2 St            HB408      Clinton St & 7 St          HB303   \n",
       "\n",
       "   start_lat  start_lng    end_lat    end_lng member_casual  \n",
       "0  40.740802 -74.042521  40.745984 -74.028199        member  \n",
       "1  40.740802 -74.042521  40.749985 -74.027150        casual  \n",
       "2  40.740802 -74.042521  40.737604 -74.052478        member  \n",
       "3  40.740802 -74.042521  40.754530 -74.026580        member  \n",
       "4  40.740802 -74.042521  40.745420 -74.033320        casual  "
      ]
     },
     "execution_count": 7,
     "metadata": {},
     "output_type": "execute_result"
    }
   ],
   "source": [
    "citibike_tripdata_2022_df.head()"
   ]
  },
  {
   "cell_type": "code",
   "execution_count": 8,
   "id": "75d8c442",
   "metadata": {},
   "outputs": [
    {
     "name": "stdout",
     "output_type": "stream",
     "text": [
      "<class 'pandas.core.frame.DataFrame'>\n",
      "RangeIndex: 108502 entries, 0 to 108501\n",
      "Data columns (total 13 columns):\n",
      " #   Column              Non-Null Count   Dtype  \n",
      "---  ------              --------------   -----  \n",
      " 0   ride_id             108502 non-null  object \n",
      " 1   rideable_type       108502 non-null  object \n",
      " 2   started_at          108502 non-null  object \n",
      " 3   ended_at            108502 non-null  object \n",
      " 4   start_station_name  108502 non-null  object \n",
      " 5   start_station_id    108502 non-null  object \n",
      " 6   end_station_name    108115 non-null  object \n",
      " 7   end_station_id      108115 non-null  object \n",
      " 8   start_lat           108502 non-null  float64\n",
      " 9   start_lng           108502 non-null  float64\n",
      " 10  end_lat             108182 non-null  float64\n",
      " 11  end_lng             108182 non-null  float64\n",
      " 12  member_casual       108502 non-null  object \n",
      "dtypes: float64(4), object(9)\n",
      "memory usage: 10.8+ MB\n"
     ]
    }
   ],
   "source": [
    "citibike_tripdata_2022_df.info()"
   ]
  },
  {
   "cell_type": "code",
   "execution_count": 9,
   "id": "4f3b1b01",
   "metadata": {},
   "outputs": [],
   "source": [
    "# Convert the 'started_at' and 'ended_at column to datetime format\n",
    "\n",
    "citibike_tripdata_2022_df['started_at'] = pd.to_datetime(citibike_tripdata_2022_df['started_at'], errors = 'coerce')\n",
    "\n",
    "citibike_tripdata_2022_df['ended_at'] =  pd.to_datetime(citibike_tripdata_2022_df['ended_at'], errors = 'coerce')"
   ]
  },
  {
   "cell_type": "code",
   "execution_count": 11,
   "id": "5aaa9c70",
   "metadata": {},
   "outputs": [
    {
     "data": {
      "text/plain": [
       "ride_id                       object\n",
       "rideable_type                 object\n",
       "started_at            datetime64[ns]\n",
       "ended_at              datetime64[ns]\n",
       "start_station_name            object\n",
       "start_station_id              object\n",
       "end_station_name              object\n",
       "end_station_id                object\n",
       "start_lat                    float64\n",
       "start_lng                    float64\n",
       "end_lat                      float64\n",
       "end_lng                      float64\n",
       "member_casual                 object\n",
       "dtype: object"
      ]
     },
     "execution_count": 11,
     "metadata": {},
     "output_type": "execute_result"
    }
   ],
   "source": [
    "citibike_tripdata_2022_df.dtypes"
   ]
  },
  {
   "cell_type": "code",
   "execution_count": 14,
   "id": "865434f6",
   "metadata": {},
   "outputs": [
    {
     "data": {
      "text/plain": [
       "ride_id                 0\n",
       "rideable_type           0\n",
       "started_at              0\n",
       "ended_at                0\n",
       "start_station_name      0\n",
       "start_station_id        0\n",
       "end_station_name      387\n",
       "end_station_id        387\n",
       "start_lat               0\n",
       "start_lng               0\n",
       "end_lat               320\n",
       "end_lng               320\n",
       "member_casual           0\n",
       "dtype: int64"
      ]
     },
     "execution_count": 14,
     "metadata": {},
     "output_type": "execute_result"
    }
   ],
   "source": [
    "#count the number of missing values in each column of citibike_tripdata_2022_df\n",
    "citibike_tripdata_2022_df.isnull().sum()"
   ]
  },
  {
   "cell_type": "code",
   "execution_count": 15,
   "id": "962c48e3",
   "metadata": {},
   "outputs": [],
   "source": [
    "# Fill missing values in the 'end_station_name' and 'end_station_id' column\n",
    "\n",
    "citibike_tripdata_2022_df['end_station_name'].fillna('Unknown Station', inplace=True)\n",
    "\n",
    "citibike_tripdata_2022_df['end_station_id'].fillna('Unknown', inplace = True)"
   ]
  },
  {
   "cell_type": "code",
   "execution_count": 16,
   "id": "6b6526f9",
   "metadata": {},
   "outputs": [],
   "source": [
    "# Remove rows with misiing values\n",
    "cleaned_citibike_tripdata_2022_df = citibike_tripdata_2022_df.dropna(subset=['end_lat', 'end_lng'])\n"
   ]
  },
  {
   "cell_type": "code",
   "execution_count": 17,
   "id": "8db01f09",
   "metadata": {},
   "outputs": [
    {
     "data": {
      "text/plain": [
       "ride_id               0\n",
       "rideable_type         0\n",
       "started_at            0\n",
       "ended_at              0\n",
       "start_station_name    0\n",
       "start_station_id      0\n",
       "end_station_name      0\n",
       "end_station_id        0\n",
       "start_lat             0\n",
       "start_lng             0\n",
       "end_lat               0\n",
       "end_lng               0\n",
       "member_casual         0\n",
       "dtype: int64"
      ]
     },
     "execution_count": 17,
     "metadata": {},
     "output_type": "execute_result"
    }
   ],
   "source": [
    "cleaned_citibike_tripdata_2022_df.isnull().sum()"
   ]
  },
  {
   "cell_type": "code",
   "execution_count": 18,
   "id": "4708436b",
   "metadata": {},
   "outputs": [
    {
     "data": {
      "text/html": [
       "<div>\n",
       "<style scoped>\n",
       "    .dataframe tbody tr th:only-of-type {\n",
       "        vertical-align: middle;\n",
       "    }\n",
       "\n",
       "    .dataframe tbody tr th {\n",
       "        vertical-align: top;\n",
       "    }\n",
       "\n",
       "    .dataframe thead th {\n",
       "        text-align: right;\n",
       "    }\n",
       "</style>\n",
       "<table border=\"1\" class=\"dataframe\">\n",
       "  <thead>\n",
       "    <tr style=\"text-align: right;\">\n",
       "      <th></th>\n",
       "      <th>ride_id</th>\n",
       "      <th>rideable_type</th>\n",
       "      <th>started_at</th>\n",
       "      <th>ended_at</th>\n",
       "      <th>start_station_name</th>\n",
       "      <th>start_station_id</th>\n",
       "      <th>end_station_name</th>\n",
       "      <th>end_station_id</th>\n",
       "      <th>start_lat</th>\n",
       "      <th>start_lng</th>\n",
       "      <th>end_lat</th>\n",
       "      <th>end_lng</th>\n",
       "      <th>member_casual</th>\n",
       "    </tr>\n",
       "  </thead>\n",
       "  <tbody>\n",
       "    <tr>\n",
       "      <th>0</th>\n",
       "      <td>7A68381621C25F78</td>\n",
       "      <td>classic_bike</td>\n",
       "      <td>2023-07-17 17:16:34</td>\n",
       "      <td>2023-07-17 17:20:52</td>\n",
       "      <td>Astor Place</td>\n",
       "      <td>JC077</td>\n",
       "      <td>Communipaw &amp; Berry Lane</td>\n",
       "      <td>JC084</td>\n",
       "      <td>40.719225</td>\n",
       "      <td>-74.071281</td>\n",
       "      <td>40.714358</td>\n",
       "      <td>-74.066611</td>\n",
       "      <td>member</td>\n",
       "    </tr>\n",
       "    <tr>\n",
       "      <th>1</th>\n",
       "      <td>0F814CA67B2FA120</td>\n",
       "      <td>classic_bike</td>\n",
       "      <td>2023-07-26 19:40:15</td>\n",
       "      <td>2023-07-26 19:44:37</td>\n",
       "      <td>Adams St &amp; 2 St</td>\n",
       "      <td>HB407</td>\n",
       "      <td>9 St HBLR - Jackson St &amp; 8 St</td>\n",
       "      <td>HB305</td>\n",
       "      <td>40.739727</td>\n",
       "      <td>-74.036866</td>\n",
       "      <td>40.747907</td>\n",
       "      <td>-74.038412</td>\n",
       "      <td>member</td>\n",
       "    </tr>\n",
       "    <tr>\n",
       "      <th>2</th>\n",
       "      <td>775A38967EBF5FB4</td>\n",
       "      <td>electric_bike</td>\n",
       "      <td>2023-07-01 12:12:22</td>\n",
       "      <td>2023-07-01 12:27:45</td>\n",
       "      <td>McGinley Square</td>\n",
       "      <td>JC055</td>\n",
       "      <td>Riverview Park</td>\n",
       "      <td>JC057</td>\n",
       "      <td>40.725340</td>\n",
       "      <td>-74.067622</td>\n",
       "      <td>40.744319</td>\n",
       "      <td>-74.043991</td>\n",
       "      <td>member</td>\n",
       "    </tr>\n",
       "    <tr>\n",
       "      <th>3</th>\n",
       "      <td>D93B742DCE1C1447</td>\n",
       "      <td>classic_bike</td>\n",
       "      <td>2023-07-20 19:10:18</td>\n",
       "      <td>2023-07-20 19:17:22</td>\n",
       "      <td>Baldwin at Montgomery</td>\n",
       "      <td>JC020</td>\n",
       "      <td>Brunswick St</td>\n",
       "      <td>JC023</td>\n",
       "      <td>40.723455</td>\n",
       "      <td>-74.064359</td>\n",
       "      <td>40.724176</td>\n",
       "      <td>-74.050656</td>\n",
       "      <td>member</td>\n",
       "    </tr>\n",
       "    <tr>\n",
       "      <th>4</th>\n",
       "      <td>AA7A6863B4B92169</td>\n",
       "      <td>electric_bike</td>\n",
       "      <td>2023-07-07 19:33:59</td>\n",
       "      <td>2023-07-07 19:58:17</td>\n",
       "      <td>Baldwin at Montgomery</td>\n",
       "      <td>JC020</td>\n",
       "      <td>Mama Johnson Field - 4 St &amp; Jackson St</td>\n",
       "      <td>HB404</td>\n",
       "      <td>40.723659</td>\n",
       "      <td>-74.064194</td>\n",
       "      <td>40.743140</td>\n",
       "      <td>-74.040041</td>\n",
       "      <td>casual</td>\n",
       "    </tr>\n",
       "  </tbody>\n",
       "</table>\n",
       "</div>"
      ],
      "text/plain": [
       "            ride_id  rideable_type           started_at             ended_at  \\\n",
       "0  7A68381621C25F78   classic_bike  2023-07-17 17:16:34  2023-07-17 17:20:52   \n",
       "1  0F814CA67B2FA120   classic_bike  2023-07-26 19:40:15  2023-07-26 19:44:37   \n",
       "2  775A38967EBF5FB4  electric_bike  2023-07-01 12:12:22  2023-07-01 12:27:45   \n",
       "3  D93B742DCE1C1447   classic_bike  2023-07-20 19:10:18  2023-07-20 19:17:22   \n",
       "4  AA7A6863B4B92169  electric_bike  2023-07-07 19:33:59  2023-07-07 19:58:17   \n",
       "\n",
       "      start_station_name start_station_id  \\\n",
       "0            Astor Place            JC077   \n",
       "1        Adams St & 2 St            HB407   \n",
       "2        McGinley Square            JC055   \n",
       "3  Baldwin at Montgomery            JC020   \n",
       "4  Baldwin at Montgomery            JC020   \n",
       "\n",
       "                         end_station_name end_station_id  start_lat  \\\n",
       "0                 Communipaw & Berry Lane          JC084  40.719225   \n",
       "1           9 St HBLR - Jackson St & 8 St          HB305  40.739727   \n",
       "2                          Riverview Park          JC057  40.725340   \n",
       "3                            Brunswick St          JC023  40.723455   \n",
       "4  Mama Johnson Field - 4 St & Jackson St          HB404  40.723659   \n",
       "\n",
       "   start_lng    end_lat    end_lng member_casual  \n",
       "0 -74.071281  40.714358 -74.066611        member  \n",
       "1 -74.036866  40.747907 -74.038412        member  \n",
       "2 -74.067622  40.744319 -74.043991        member  \n",
       "3 -74.064359  40.724176 -74.050656        member  \n",
       "4 -74.064194  40.743140 -74.040041        casual  "
      ]
     },
     "execution_count": 18,
     "metadata": {},
     "output_type": "execute_result"
    }
   ],
   "source": [
    "citibike_tripdata_2023_df.head()"
   ]
  },
  {
   "cell_type": "code",
   "execution_count": 20,
   "id": "3f22dab4",
   "metadata": {},
   "outputs": [
    {
     "name": "stdout",
     "output_type": "stream",
     "text": [
      "<class 'pandas.core.frame.DataFrame'>\n",
      "RangeIndex: 106608 entries, 0 to 106607\n",
      "Data columns (total 13 columns):\n",
      " #   Column              Non-Null Count   Dtype  \n",
      "---  ------              --------------   -----  \n",
      " 0   ride_id             106608 non-null  object \n",
      " 1   rideable_type       106608 non-null  object \n",
      " 2   started_at          106608 non-null  object \n",
      " 3   ended_at            106608 non-null  object \n",
      " 4   start_station_name  106601 non-null  object \n",
      " 5   start_station_id    106601 non-null  object \n",
      " 6   end_station_name    106216 non-null  object \n",
      " 7   end_station_id      106216 non-null  object \n",
      " 8   start_lat           106608 non-null  float64\n",
      " 9   start_lng           106608 non-null  float64\n",
      " 10  end_lat             106486 non-null  float64\n",
      " 11  end_lng             106486 non-null  float64\n",
      " 12  member_casual       106608 non-null  object \n",
      "dtypes: float64(4), object(9)\n",
      "memory usage: 10.6+ MB\n"
     ]
    }
   ],
   "source": [
    "citibike_tripdata_2023_df.info()"
   ]
  },
  {
   "cell_type": "code",
   "execution_count": 21,
   "id": "5ca78139",
   "metadata": {},
   "outputs": [],
   "source": [
    "# Convert the 'started_at' and 'ended_at column to datetime format\n",
    "\n",
    "citibike_tripdata_2023_df['started_at'] = pd.to_datetime(citibike_tripdata_2023_df['started_at'], errors = 'coerce')\n",
    "\n",
    "citibike_tripdata_2023_df['ended_at'] = pd.to_datetime(citibike_tripdata_2023_df['ended_at'], errors = 'coerce')"
   ]
  },
  {
   "cell_type": "code",
   "execution_count": 22,
   "id": "31e51220",
   "metadata": {},
   "outputs": [
    {
     "data": {
      "text/plain": [
       "ride_id                       object\n",
       "rideable_type                 object\n",
       "started_at            datetime64[ns]\n",
       "ended_at              datetime64[ns]\n",
       "start_station_name            object\n",
       "start_station_id              object\n",
       "end_station_name              object\n",
       "end_station_id                object\n",
       "start_lat                    float64\n",
       "start_lng                    float64\n",
       "end_lat                      float64\n",
       "end_lng                      float64\n",
       "member_casual                 object\n",
       "dtype: object"
      ]
     },
     "execution_count": 22,
     "metadata": {},
     "output_type": "execute_result"
    }
   ],
   "source": [
    "citibike_tripdata_2023_df.dtypes"
   ]
  },
  {
   "cell_type": "code",
   "execution_count": 23,
   "id": "1df0c8cb",
   "metadata": {},
   "outputs": [
    {
     "data": {
      "text/plain": [
       "ride_id                 0\n",
       "rideable_type           0\n",
       "started_at              0\n",
       "ended_at                0\n",
       "start_station_name      7\n",
       "start_station_id        7\n",
       "end_station_name      392\n",
       "end_station_id        392\n",
       "start_lat               0\n",
       "start_lng               0\n",
       "end_lat               122\n",
       "end_lng               122\n",
       "member_casual           0\n",
       "dtype: int64"
      ]
     },
     "execution_count": 23,
     "metadata": {},
     "output_type": "execute_result"
    }
   ],
   "source": [
    "#count the number of missing values in each column of citibike_tripdata_2023_df\n",
    "citibike_tripdata_2023_df.isnull().sum()"
   ]
  },
  {
   "cell_type": "code",
   "execution_count": 24,
   "id": "2c2d3b99",
   "metadata": {},
   "outputs": [],
   "source": [
    "# Fill missing values in the 'start_station_name' and 'start_station_id' column\n",
    "\n",
    "citibike_tripdata_2023_df['start_station_name'].fillna('Unknown Station', inplace = True)\n",
    "\n",
    "citibike_tripdata_2023_df['start_station_id'].fillna('Unknown', inplace = True)\n",
    "\n",
    "# Fill missing values in the 'end_station_name' and 'end_station_id' column\n",
    "\n",
    "citibike_tripdata_2023_df['end_station_name'].fillna('Unknown Station', inplace=True)\n",
    "\n",
    "citibike_tripdata_2023_df['end_station_id'].fillna('Unknown', inplace = True)\n",
    "\n"
   ]
  },
  {
   "cell_type": "code",
   "execution_count": 25,
   "id": "c9dbfad9",
   "metadata": {},
   "outputs": [],
   "source": [
    "# Remove rows with misiing values\n",
    "cleaned_citibike_tripdata_2023_df = citibike_tripdata_2023_df.dropna(subset=['end_lat', 'end_lng'])"
   ]
  },
  {
   "cell_type": "code",
   "execution_count": 37,
   "id": "8b0443c3",
   "metadata": {},
   "outputs": [
    {
     "data": {
      "text/plain": [
       "ride_id               0\n",
       "rideable_type         0\n",
       "started_at            0\n",
       "ended_at              0\n",
       "start_station_name    0\n",
       "start_station_id      0\n",
       "end_station_name      0\n",
       "end_station_id        0\n",
       "start_lat             0\n",
       "start_lng             0\n",
       "end_lat               0\n",
       "end_lng               0\n",
       "member_casual         0\n",
       "dtype: int64"
      ]
     },
     "execution_count": 37,
     "metadata": {},
     "output_type": "execute_result"
    }
   ],
   "source": [
    "cleaned_citibike_tripdata_2023_df.isnull().sum()"
   ]
  },
  {
   "cell_type": "code",
   "execution_count": 29,
   "id": "933539af",
   "metadata": {},
   "outputs": [],
   "source": [
    "# Combine the cleaned dataframes for 2022 and 2023 into a single dataframe\n",
    "frames = [cleaned_citibike_tripdata_2022_df, cleaned_citibike_tripdata_2023_df]\n",
    "\n",
    "# Concatenate the dataframes in the 'frames' list, and reset the index for the combined dataframe\n",
    "combined_citibike_tripdata_df = pd.concat(frames, ignore_index=True)\n"
   ]
  },
  {
   "cell_type": "code",
   "execution_count": 31,
   "id": "f5217da7",
   "metadata": {},
   "outputs": [
    {
     "data": {
      "text/html": [
       "<div>\n",
       "<style scoped>\n",
       "    .dataframe tbody tr th:only-of-type {\n",
       "        vertical-align: middle;\n",
       "    }\n",
       "\n",
       "    .dataframe tbody tr th {\n",
       "        vertical-align: top;\n",
       "    }\n",
       "\n",
       "    .dataframe thead th {\n",
       "        text-align: right;\n",
       "    }\n",
       "</style>\n",
       "<table border=\"1\" class=\"dataframe\">\n",
       "  <thead>\n",
       "    <tr style=\"text-align: right;\">\n",
       "      <th></th>\n",
       "      <th>ride_id</th>\n",
       "      <th>rideable_type</th>\n",
       "      <th>started_at</th>\n",
       "      <th>ended_at</th>\n",
       "      <th>start_station_name</th>\n",
       "      <th>start_station_id</th>\n",
       "      <th>end_station_name</th>\n",
       "      <th>end_station_id</th>\n",
       "      <th>start_lat</th>\n",
       "      <th>start_lng</th>\n",
       "      <th>end_lat</th>\n",
       "      <th>end_lng</th>\n",
       "      <th>member_casual</th>\n",
       "    </tr>\n",
       "  </thead>\n",
       "  <tbody>\n",
       "    <tr>\n",
       "      <th>0</th>\n",
       "      <td>89CDCE3224502904</td>\n",
       "      <td>classic_bike</td>\n",
       "      <td>2022-07-21 18:19:45</td>\n",
       "      <td>2022-07-21 18:28:21</td>\n",
       "      <td>Marshall St &amp; 2 St</td>\n",
       "      <td>HB408</td>\n",
       "      <td>8 St &amp; Washington St</td>\n",
       "      <td>HB603</td>\n",
       "      <td>40.740802</td>\n",
       "      <td>-74.042521</td>\n",
       "      <td>40.745984</td>\n",
       "      <td>-74.028199</td>\n",
       "      <td>member</td>\n",
       "    </tr>\n",
       "    <tr>\n",
       "      <th>1</th>\n",
       "      <td>3E6E50F51BD4CBD9</td>\n",
       "      <td>electric_bike</td>\n",
       "      <td>2022-07-21 17:50:57</td>\n",
       "      <td>2022-07-21 17:59:17</td>\n",
       "      <td>Marshall St &amp; 2 St</td>\n",
       "      <td>HB408</td>\n",
       "      <td>11 St &amp; Washington St</td>\n",
       "      <td>HB502</td>\n",
       "      <td>40.740802</td>\n",
       "      <td>-74.042521</td>\n",
       "      <td>40.749985</td>\n",
       "      <td>-74.027150</td>\n",
       "      <td>casual</td>\n",
       "    </tr>\n",
       "    <tr>\n",
       "      <th>2</th>\n",
       "      <td>8A9058FAA9115562</td>\n",
       "      <td>electric_bike</td>\n",
       "      <td>2022-07-23 11:51:55</td>\n",
       "      <td>2022-07-23 11:59:16</td>\n",
       "      <td>Marshall St &amp; 2 St</td>\n",
       "      <td>HB408</td>\n",
       "      <td>Oakland Ave</td>\n",
       "      <td>JC022</td>\n",
       "      <td>40.740802</td>\n",
       "      <td>-74.042521</td>\n",
       "      <td>40.737604</td>\n",
       "      <td>-74.052478</td>\n",
       "      <td>member</td>\n",
       "    </tr>\n",
       "    <tr>\n",
       "      <th>3</th>\n",
       "      <td>C566A187663748AE</td>\n",
       "      <td>classic_bike</td>\n",
       "      <td>2022-07-30 20:34:40</td>\n",
       "      <td>2022-07-30 20:48:40</td>\n",
       "      <td>Marshall St &amp; 2 St</td>\n",
       "      <td>HB408</td>\n",
       "      <td>Bloomfield St &amp; 15 St</td>\n",
       "      <td>HB203</td>\n",
       "      <td>40.740802</td>\n",
       "      <td>-74.042521</td>\n",
       "      <td>40.754530</td>\n",
       "      <td>-74.026580</td>\n",
       "      <td>member</td>\n",
       "    </tr>\n",
       "    <tr>\n",
       "      <th>4</th>\n",
       "      <td>7E754D57276BE57E</td>\n",
       "      <td>classic_bike</td>\n",
       "      <td>2022-07-14 18:42:34</td>\n",
       "      <td>2022-07-14 18:49:45</td>\n",
       "      <td>Marshall St &amp; 2 St</td>\n",
       "      <td>HB408</td>\n",
       "      <td>Clinton St &amp; 7 St</td>\n",
       "      <td>HB303</td>\n",
       "      <td>40.740802</td>\n",
       "      <td>-74.042521</td>\n",
       "      <td>40.745420</td>\n",
       "      <td>-74.033320</td>\n",
       "      <td>casual</td>\n",
       "    </tr>\n",
       "  </tbody>\n",
       "</table>\n",
       "</div>"
      ],
      "text/plain": [
       "            ride_id  rideable_type          started_at            ended_at  \\\n",
       "0  89CDCE3224502904   classic_bike 2022-07-21 18:19:45 2022-07-21 18:28:21   \n",
       "1  3E6E50F51BD4CBD9  electric_bike 2022-07-21 17:50:57 2022-07-21 17:59:17   \n",
       "2  8A9058FAA9115562  electric_bike 2022-07-23 11:51:55 2022-07-23 11:59:16   \n",
       "3  C566A187663748AE   classic_bike 2022-07-30 20:34:40 2022-07-30 20:48:40   \n",
       "4  7E754D57276BE57E   classic_bike 2022-07-14 18:42:34 2022-07-14 18:49:45   \n",
       "\n",
       "   start_station_name start_station_id       end_station_name end_station_id  \\\n",
       "0  Marshall St & 2 St            HB408   8 St & Washington St          HB603   \n",
       "1  Marshall St & 2 St            HB408  11 St & Washington St          HB502   \n",
       "2  Marshall St & 2 St            HB408            Oakland Ave          JC022   \n",
       "3  Marshall St & 2 St            HB408  Bloomfield St & 15 St          HB203   \n",
       "4  Marshall St & 2 St            HB408      Clinton St & 7 St          HB303   \n",
       "\n",
       "   start_lat  start_lng    end_lat    end_lng member_casual  \n",
       "0  40.740802 -74.042521  40.745984 -74.028199        member  \n",
       "1  40.740802 -74.042521  40.749985 -74.027150        casual  \n",
       "2  40.740802 -74.042521  40.737604 -74.052478        member  \n",
       "3  40.740802 -74.042521  40.754530 -74.026580        member  \n",
       "4  40.740802 -74.042521  40.745420 -74.033320        casual  "
      ]
     },
     "execution_count": 31,
     "metadata": {},
     "output_type": "execute_result"
    }
   ],
   "source": [
    "combined_citibike_tripdata_df.head()"
   ]
  },
  {
   "cell_type": "code",
   "execution_count": 32,
   "id": "c0dff38f",
   "metadata": {},
   "outputs": [
    {
     "data": {
      "text/plain": [
       "ride_id                       object\n",
       "rideable_type                 object\n",
       "started_at            datetime64[ns]\n",
       "ended_at              datetime64[ns]\n",
       "start_station_name            object\n",
       "start_station_id              object\n",
       "end_station_name              object\n",
       "end_station_id                object\n",
       "start_lat                    float64\n",
       "start_lng                    float64\n",
       "end_lat                      float64\n",
       "end_lng                      float64\n",
       "member_casual                 object\n",
       "dtype: object"
      ]
     },
     "execution_count": 32,
     "metadata": {},
     "output_type": "execute_result"
    }
   ],
   "source": [
    "combined_citibike_tripdata_df.dtypes"
   ]
  },
  {
   "cell_type": "code",
   "execution_count": 33,
   "id": "24f17c96",
   "metadata": {},
   "outputs": [
    {
     "data": {
      "text/plain": [
       "ride_id               0\n",
       "rideable_type         0\n",
       "started_at            0\n",
       "ended_at              0\n",
       "start_station_name    0\n",
       "start_station_id      0\n",
       "end_station_name      0\n",
       "end_station_id        0\n",
       "start_lat             0\n",
       "start_lng             0\n",
       "end_lat               0\n",
       "end_lng               0\n",
       "member_casual         0\n",
       "dtype: int64"
      ]
     },
     "execution_count": 33,
     "metadata": {},
     "output_type": "execute_result"
    }
   ],
   "source": [
    "combined_citibike_tripdata_df.isnull().sum()"
   ]
  },
  {
   "cell_type": "code",
   "execution_count": 44,
   "id": "da04dd75",
   "metadata": {},
   "outputs": [
    {
     "name": "stdout",
     "output_type": "stream",
     "text": [
      "There are 0 duplicate rows in the dataframe.\n"
     ]
    }
   ],
   "source": [
    "# Calculate the number of duplicate rows in the dataframe\n",
    "number_of_duplicates = combined_citibike_tripdata_df.duplicated().sum()\n",
    "\n",
    "# Print the number of duplicate rows\n",
    "print(f\"There are {number_of_duplicates} duplicate rows in the dataframe.\")\n"
   ]
  },
  {
   "cell_type": "code",
   "execution_count": 46,
   "id": "e3e8fae8",
   "metadata": {},
   "outputs": [
    {
     "data": {
      "text/plain": [
       "(214668, 13)"
      ]
     },
     "execution_count": 46,
     "metadata": {},
     "output_type": "execute_result"
    }
   ],
   "source": [
    "# Count rows and columns \n",
    "combined_citibike_tripdata_df.shape"
   ]
  },
  {
   "cell_type": "code",
   "execution_count": 45,
   "id": "ba69cc2d",
   "metadata": {},
   "outputs": [],
   "source": [
    "# Save the combined dataframe to a CSV file\n",
    "combined_citibike_tripdata_df.to_csv('Resources/combined_citibike_tripdata.csv', index = False)"
   ]
  },
  {
   "cell_type": "code",
   "execution_count": null,
   "id": "b459a8f9",
   "metadata": {},
   "outputs": [],
   "source": []
  }
 ],
 "metadata": {
  "kernelspec": {
   "display_name": "Python 3 (ipykernel)",
   "language": "python",
   "name": "python3"
  },
  "language_info": {
   "codemirror_mode": {
    "name": "ipython",
    "version": 3
   },
   "file_extension": ".py",
   "mimetype": "text/x-python",
   "name": "python",
   "nbconvert_exporter": "python",
   "pygments_lexer": "ipython3",
   "version": "3.10.11"
  }
 },
 "nbformat": 4,
 "nbformat_minor": 5
}
